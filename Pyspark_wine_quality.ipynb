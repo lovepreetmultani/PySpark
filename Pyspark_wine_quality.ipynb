{
  "nbformat": 4,
  "nbformat_minor": 0,
  "metadata": {
    "colab": {
      "provenance": [],
      "authorship_tag": "ABX9TyOkNeymTDk/QgVOPIgDKGl3",
      "include_colab_link": true
    },
    "kernelspec": {
      "name": "python3",
      "display_name": "Python 3"
    },
    "language_info": {
      "name": "python"
    }
  },
  "cells": [
    {
      "cell_type": "markdown",
      "metadata": {
        "id": "view-in-github",
        "colab_type": "text"
      },
      "source": [
        "<a href=\"https://colab.research.google.com/github/lovepreetmultani/PySpark/blob/main/Pyspark_wine_quality.ipynb\" target=\"_parent\"><img src=\"https://colab.research.google.com/assets/colab-badge.svg\" alt=\"Open In Colab\"/></a>"
      ]
    },
    {
      "cell_type": "code",
      "execution_count": 104,
      "metadata": {
        "id": "i4mbDlVv3eoM"
      },
      "outputs": [],
      "source": [
        "#!pip install pyspark"
      ]
    },
    {
      "cell_type": "code",
      "source": [
        "import pyspark\n",
        "import pandas as pd\n",
        "from pyspark.sql import SparkSession\n",
        "from pyspark.conf import SparkConf\n",
        "from pyspark.ml.feature import VectorAssembler\n",
        "import matplotlib.pyplot as plt\n",
        "from pyspark.ml.regression import LinearRegression"
      ],
      "metadata": {
        "id": "S4OF4U6-4GCt"
      },
      "execution_count": 105,
      "outputs": []
    },
    {
      "cell_type": "code",
      "source": [
        "from google.colab import drive\n",
        "drive.mount(\"/content/drive\")"
      ],
      "metadata": {
        "colab": {
          "base_uri": "https://localhost:8080/"
        },
        "id": "lKc6OxPk4NPo",
        "outputId": "f4fd6b27-822e-41ba-89c8-142e2388ca90"
      },
      "execution_count": 106,
      "outputs": [
        {
          "output_type": "stream",
          "name": "stdout",
          "text": [
            "Drive already mounted at /content/drive; to attempt to forcibly remount, call drive.mount(\"/content/drive\", force_remount=True).\n"
          ]
        }
      ]
    },
    {
      "cell_type": "code",
      "source": [
        "df_pyspark=spark.read.option('header','true').csv('drive/My Drive/Datasets/winequality-red.csv',inferSchema=True)"
      ],
      "metadata": {
        "id": "6tO3yLxc6lUZ"
      },
      "execution_count": 107,
      "outputs": []
    },
    {
      "cell_type": "code",
      "source": [
        "df_pyspark.printSchema()"
      ],
      "metadata": {
        "colab": {
          "base_uri": "https://localhost:8080/"
        },
        "id": "MbE2keK_7QSX",
        "outputId": "d450dd29-53b2-4144-b5e1-8e42ebe09997"
      },
      "execution_count": 108,
      "outputs": [
        {
          "output_type": "stream",
          "name": "stdout",
          "text": [
            "root\n",
            " |-- fixed acidity: double (nullable = true)\n",
            " |-- volatile acidity: double (nullable = true)\n",
            " |-- citric acid: double (nullable = true)\n",
            " |-- residual sugar: double (nullable = true)\n",
            " |-- chlorides: double (nullable = true)\n",
            " |-- free sulfur dioxide: double (nullable = true)\n",
            " |-- total sulfur dioxide: double (nullable = true)\n",
            " |-- density: double (nullable = true)\n",
            " |-- pH: double (nullable = true)\n",
            " |-- sulphates: double (nullable = true)\n",
            " |-- alcohol: double (nullable = true)\n",
            " |-- quality: integer (nullable = true)\n",
            "\n"
          ]
        }
      ]
    },
    {
      "cell_type": "code",
      "source": [
        "df_pyspark.dtypes"
      ],
      "metadata": {
        "colab": {
          "base_uri": "https://localhost:8080/"
        },
        "id": "rTSOXS_pE4gr",
        "outputId": "e46030d7-da5b-4f55-fccf-a2d050f171a8"
      },
      "execution_count": 109,
      "outputs": [
        {
          "output_type": "execute_result",
          "data": {
            "text/plain": [
              "[('fixed acidity', 'double'),\n",
              " ('volatile acidity', 'double'),\n",
              " ('citric acid', 'double'),\n",
              " ('residual sugar', 'double'),\n",
              " ('chlorides', 'double'),\n",
              " ('free sulfur dioxide', 'double'),\n",
              " ('total sulfur dioxide', 'double'),\n",
              " ('density', 'double'),\n",
              " ('pH', 'double'),\n",
              " ('sulphates', 'double'),\n",
              " ('alcohol', 'double'),\n",
              " ('quality', 'int')]"
            ]
          },
          "metadata": {},
          "execution_count": 109
        }
      ]
    },
    {
      "cell_type": "code",
      "source": [
        "#VectorAssembler - it combines multiple columns of a DataFrame into a single vector column\n",
        "assembler = VectorAssembler(inputCols=['fixed acidity','volatile acidity','citric acid','residual sugar','chlorides','free sulfur dioxide','total sulfur dioxide',\n",
        "                                       'density','pH','alcohol','sulphates'], outputCol=\"Independent_features\")\n",
        "output=assembler.transform(df_pyspark)"
      ],
      "metadata": {
        "id": "jvq9QtirL3Hi"
      },
      "execution_count": 110,
      "outputs": []
    },
    {
      "cell_type": "code",
      "source": [
        "output.show()"
      ],
      "metadata": {
        "colab": {
          "base_uri": "https://localhost:8080/"
        },
        "id": "ACxzc4YaM9D4",
        "outputId": "1379ddc3-af3e-4d81-a1eb-738a38247eee"
      },
      "execution_count": 111,
      "outputs": [
        {
          "output_type": "stream",
          "name": "stdout",
          "text": [
            "+-------------+----------------+-----------+--------------+-------------------+-------------------+--------------------+-------+----+---------+-------+-------+--------------------+\n",
            "|fixed acidity|volatile acidity|citric acid|residual sugar|          chlorides|free sulfur dioxide|total sulfur dioxide|density|  pH|sulphates|alcohol|quality|Independent_features|\n",
            "+-------------+----------------+-----------+--------------+-------------------+-------------------+--------------------+-------+----+---------+-------+-------+--------------------+\n",
            "|          7.4|             0.7|        0.0|           1.9|              0.076|               11.0|                34.0| 0.9978|3.51|     0.56|    9.4|      5|[7.4,0.7,0.0,1.9,...|\n",
            "|          7.8|            0.88|        0.0|           2.6|              0.098|               25.0|                67.0| 0.9968| 3.2|     0.68|    9.8|      5|[7.8,0.88,0.0,2.6...|\n",
            "|          7.8|            0.76|       0.04|           2.3|              0.092|               15.0|                54.0|  0.997|3.26|     0.65|    9.8|      5|[7.8,0.76,0.04,2....|\n",
            "|         11.2|            0.28|       0.56|           1.9|              0.075|               17.0|                60.0|  0.998|3.16|     0.58|    9.8|      6|[11.2,0.28,0.56,1...|\n",
            "|          7.4|             0.7|        0.0|           1.9|              0.076|               11.0|                34.0| 0.9978|3.51|     0.56|    9.4|      5|[7.4,0.7,0.0,1.9,...|\n",
            "|          7.4|            0.66|        0.0|           1.8|              0.075|               13.0|                40.0| 0.9978|3.51|     0.56|    9.4|      5|[7.4,0.66,0.0,1.8...|\n",
            "|          7.9|             0.6|       0.06|           1.6|              0.069|               15.0|                59.0| 0.9964| 3.3|     0.46|    9.4|      5|[7.9,0.6,0.06,1.6...|\n",
            "|          7.3|            0.65|        0.0|           1.2|              0.065|               15.0|                21.0| 0.9946|3.39|     0.47|   10.0|      7|[7.3,0.65,0.0,1.2...|\n",
            "|          7.8|            0.58|       0.02|           2.0|              0.073|                9.0|                18.0| 0.9968|3.36|     0.57|    9.5|      7|[7.8,0.58,0.02,2....|\n",
            "|          7.5|             0.5|       0.36|           6.1|              0.071|               17.0|               102.0| 0.9978|3.35|      0.8|   10.5|      5|[7.5,0.5,0.36,6.1...|\n",
            "|          6.7|            0.58|       0.08|           1.8|0.09699999999999999|               15.0|                65.0| 0.9959|3.28|     0.54|    9.2|      5|[6.7,0.58,0.08,1....|\n",
            "|          7.5|             0.5|       0.36|           6.1|              0.071|               17.0|               102.0| 0.9978|3.35|      0.8|   10.5|      5|[7.5,0.5,0.36,6.1...|\n",
            "|          5.6|           0.615|        0.0|           1.6|0.08900000000000001|               16.0|                59.0| 0.9943|3.58|     0.52|    9.9|      5|[5.6,0.615,0.0,1....|\n",
            "|          7.8|            0.61|       0.29|           1.6|              0.114|                9.0|                29.0| 0.9974|3.26|     1.56|    9.1|      5|[7.8,0.61,0.29,1....|\n",
            "|          8.9|            0.62|       0.18|           3.8|0.17600000000000002|               52.0|               145.0| 0.9986|3.16|     0.88|    9.2|      5|[8.9,0.62,0.18,3....|\n",
            "|          8.9|            0.62|       0.19|           3.9|               0.17|               51.0|               148.0| 0.9986|3.17|     0.93|    9.2|      5|[8.9,0.62,0.19,3....|\n",
            "|          8.5|            0.28|       0.56|           1.8|              0.092|               35.0|               103.0| 0.9969| 3.3|     0.75|   10.5|      7|[8.5,0.28,0.56,1....|\n",
            "|          8.1|            0.56|       0.28|           1.7|              0.368|               16.0|                56.0| 0.9968|3.11|     1.28|    9.3|      5|[8.1,0.56,0.28,1....|\n",
            "|          7.4|            0.59|       0.08|           4.4|              0.086|                6.0|                29.0| 0.9974|3.38|      0.5|    9.0|      4|[7.4,0.59,0.08,4....|\n",
            "|          7.9|            0.32|       0.51|           1.8|              0.341|               17.0|                56.0| 0.9969|3.04|     1.08|    9.2|      6|[7.9,0.32,0.51,1....|\n",
            "+-------------+----------------+-----------+--------------+-------------------+-------------------+--------------------+-------+----+---------+-------+-------+--------------------+\n",
            "only showing top 20 rows\n",
            "\n"
          ]
        }
      ]
    },
    {
      "cell_type": "code",
      "source": [
        "finalized_data=output.select(\"Independent_features\",\"quality\")"
      ],
      "metadata": {
        "id": "INq9i607NBRl"
      },
      "execution_count": 112,
      "outputs": []
    },
    {
      "cell_type": "code",
      "source": [
        "finalized_data.show()"
      ],
      "metadata": {
        "colab": {
          "base_uri": "https://localhost:8080/"
        },
        "id": "fXB0d6LXNIYi",
        "outputId": "75d30a95-5434-4e35-930f-a96670629a1c"
      },
      "execution_count": 113,
      "outputs": [
        {
          "output_type": "stream",
          "name": "stdout",
          "text": [
            "+--------------------+-------+\n",
            "|Independent_features|quality|\n",
            "+--------------------+-------+\n",
            "|[7.4,0.7,0.0,1.9,...|      5|\n",
            "|[7.8,0.88,0.0,2.6...|      5|\n",
            "|[7.8,0.76,0.04,2....|      5|\n",
            "|[11.2,0.28,0.56,1...|      6|\n",
            "|[7.4,0.7,0.0,1.9,...|      5|\n",
            "|[7.4,0.66,0.0,1.8...|      5|\n",
            "|[7.9,0.6,0.06,1.6...|      5|\n",
            "|[7.3,0.65,0.0,1.2...|      7|\n",
            "|[7.8,0.58,0.02,2....|      7|\n",
            "|[7.5,0.5,0.36,6.1...|      5|\n",
            "|[6.7,0.58,0.08,1....|      5|\n",
            "|[7.5,0.5,0.36,6.1...|      5|\n",
            "|[5.6,0.615,0.0,1....|      5|\n",
            "|[7.8,0.61,0.29,1....|      5|\n",
            "|[8.9,0.62,0.18,3....|      5|\n",
            "|[8.9,0.62,0.19,3....|      5|\n",
            "|[8.5,0.28,0.56,1....|      7|\n",
            "|[8.1,0.56,0.28,1....|      5|\n",
            "|[7.4,0.59,0.08,4....|      4|\n",
            "|[7.9,0.32,0.51,1....|      6|\n",
            "+--------------------+-------+\n",
            "only showing top 20 rows\n",
            "\n"
          ]
        }
      ]
    },
    {
      "cell_type": "code",
      "source": [
        "##train test split\n",
        "train_data,test_data=finalized_data.randomSplit([0.75,0.25])\n",
        "regressor=LinearRegression(featuresCol='Independent_features', labelCol='quality')\n",
        "regressor=regressor.fit(train_data)"
      ],
      "metadata": {
        "id": "YZ0K4PZMNL5R"
      },
      "execution_count": 114,
      "outputs": []
    },
    {
      "cell_type": "code",
      "source": [
        "lrModel_predictions=regressor.transform(test_data)"
      ],
      "metadata": {
        "id": "TwlVJQQsRGLz"
      },
      "execution_count": 115,
      "outputs": []
    },
    {
      "cell_type": "code",
      "source": [
        "### Coefficients\n",
        "regressor.coefficients"
      ],
      "metadata": {
        "colab": {
          "base_uri": "https://localhost:8080/"
        },
        "id": "j0oB42PdNWVC",
        "outputId": "6befccd7-2f6b-4d1c-ced4-c003c3f8f438"
      },
      "execution_count": 116,
      "outputs": [
        {
          "output_type": "execute_result",
          "data": {
            "text/plain": [
              "DenseVector([0.0321, -1.0163, -0.2137, 0.0054, -2.579, 0.0048, -0.0031, -36.2406, -0.4373, 0.2442, 1.0525])"
            ]
          },
          "metadata": {},
          "execution_count": 116
        }
      ]
    },
    {
      "cell_type": "code",
      "source": [
        "### Intercepts\n",
        "regressor.intercept"
      ],
      "metadata": {
        "colab": {
          "base_uri": "https://localhost:8080/"
        },
        "id": "owaOjsRJNpEx",
        "outputId": "6dcf51b5-065c-4801-89bd-3b25b41007a8"
      },
      "execution_count": 117,
      "outputs": [
        {
          "output_type": "execute_result",
          "data": {
            "text/plain": [
              "40.56166416478835"
            ]
          },
          "metadata": {},
          "execution_count": 117
        }
      ]
    },
    {
      "cell_type": "code",
      "source": [
        "### Prediction\n",
        "pred_results=regressor.evaluate(test_data)"
      ],
      "metadata": {
        "id": "909H0lohNrwG"
      },
      "execution_count": 118,
      "outputs": []
    },
    {
      "cell_type": "code",
      "source": [
        "## Final comparison\n",
        "pred_results.predictions.show()"
      ],
      "metadata": {
        "colab": {
          "base_uri": "https://localhost:8080/"
        },
        "id": "zZLei1x5NtuI",
        "outputId": "decb0729-6f26-42ea-a315-3e735f268674"
      },
      "execution_count": 119,
      "outputs": [
        {
          "output_type": "stream",
          "name": "stdout",
          "text": [
            "+--------------------+-------+------------------+\n",
            "|Independent_features|quality|        prediction|\n",
            "+--------------------+-------+------------------+\n",
            "|[5.0,0.42,0.24,2....|      8|  6.66524135056752|\n",
            "|[5.1,0.51,0.18,2....|      7| 6.418917609919177|\n",
            "|[5.1,0.585,0.0,1....|      7| 6.432560825556919|\n",
            "|[5.2,0.34,0.0,1.8...|      6| 6.900324472372162|\n",
            "|[5.2,0.34,0.0,1.8...|      6| 6.900324472372162|\n",
            "|[5.3,0.47,0.11,2....|      7|6.6630059520648715|\n",
            "|[5.3,0.57,0.01,1....|      7| 6.333320604611991|\n",
            "|[5.3,0.715,0.19,1...|      5| 5.120107999506878|\n",
            "|[5.4,0.42,0.27,2....|      7| 5.936927740201327|\n",
            "|[5.4,0.74,0.09,1....|      6| 5.531652434184537|\n",
            "|[5.6,0.31,0.37,1....|      5| 5.251550596501865|\n",
            "|[5.6,0.54,0.04,1....|      5| 5.786976839685693|\n",
            "|[5.6,0.54,0.04,1....|      5| 5.786976839685693|\n",
            "|[5.6,0.605,0.05,2...|      5| 6.153588500081931|\n",
            "|[5.8,0.61,0.11,1....|      6| 5.692926486730528|\n",
            "|[5.9,0.46,0.0,1.9...|      5| 5.821480433069674|\n",
            "|[6.0,0.5,0.0,1.4,...|      5| 5.380456150553449|\n",
            "|[6.0,0.51,0.0,2.1...|      6| 6.088807631465002|\n",
            "|[6.0,0.54,0.06,1....|      6| 5.672051046843691|\n",
            "|[6.0,0.64,0.05,1....|      5| 5.734961027780997|\n",
            "+--------------------+-------+------------------+\n",
            "only showing top 20 rows\n",
            "\n"
          ]
        }
      ]
    },
    {
      "cell_type": "code",
      "source": [
        "pred_results.r2,pred_results.meanAbsoluteError,pred_results.meanSquaredError"
      ],
      "metadata": {
        "colab": {
          "base_uri": "https://localhost:8080/"
        },
        "id": "bOr8BK6pNwdt",
        "outputId": "55816bdf-5236-4e38-f925-b515d617993e"
      },
      "execution_count": 120,
      "outputs": [
        {
          "output_type": "execute_result",
          "data": {
            "text/plain": [
              "(0.3720327074043577, 0.5099746556934734, 0.43026583103947746)"
            ]
          },
          "metadata": {},
          "execution_count": 120
        }
      ]
    }
  ]
}